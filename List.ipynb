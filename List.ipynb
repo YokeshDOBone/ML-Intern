{
 "cells": [
  {
   "cell_type": "code",
   "execution_count": 1,
   "metadata": {},
   "outputs": [
    {
     "name": "stdout",
     "output_type": "stream",
     "text": [
      "Original List: [0, 1, 2, 3, 4, 5, 6, 7, 8, 9, 10, 11, 12, 13, 14, 15, 16, 17, 18, 19, 20, 21, 22, 23, 24, 25, 26, 27, 28, 29, 30, 31, 32, 33, 34, 35, 36, 37, 38, 39, 40, 41, 42, 43, 44, 45, 46, 47, 48, 49, 50, 51, 52, 53, 54, 55, 56, 57, 58, 59, 60, 61, 62, 63, 64, 65, 66, 67, 68, 69, 70, 71, 72, 73, 74, 75, 76, 77, 78, 79, 80, 81, 82, 83, 84, 85, 86, 87, 88, 89, 90, 91, 92, 93, 94, 95, 96, 97, 98, 99, 100]\n",
      "New List: ['a', '1', '2', '3', '4', 'a', '6', '7', '8', '9', 'a', '11', '12', '13', '14', 'a', '16', '17', '18', '19', 'a', '21', '22', '23', '24', 'a', '26', '27', '28', '29', 'a', '31', '32', '33', '34', 'a', '36', '37', '38', '39', 'a', '41', '42', '43', '44', 'a', '46', '47', '48', '49', 'a', '51', '52', '53', '54', 'a', '56', '57', '58', '59', 'a', '61', '62', '63', '64', 'a', '66', '67', '68', '69', 'a', '71', '72', '73', '74', 'a', '76', '77', '78', '79', 'a', '81', '82', '83', '84', 'a', '86', '87', '88', '89', 'a', '91', '92', '93', '94', 'a', '96', '97', '98', '99', 'a']\n"
     ]
    }
   ],
   "source": [
    "# Create a numerical list within the range of 0-101\n",
    "original_list = list(range(101))  # Range is 0-101 inclusive\n",
    "\n",
    "# Create a new list by replacing digits divisible by 5 with 'a'\n",
    "new_list = [str(x) if x % 5 != 0 else 'a' for x in original_list]\n",
    "\n",
    "# Print the original and new lists\n",
    "print(\"Original List:\", original_list)\n",
    "print(\"New List:\", new_list)\n"
   ]
  }
 ],
 "metadata": {
  "kernelspec": {
   "display_name": "Python 3",
   "language": "python",
   "name": "python3"
  },
  "language_info": {
   "codemirror_mode": {
    "name": "ipython",
    "version": 3
   },
   "file_extension": ".py",
   "mimetype": "text/x-python",
   "name": "python",
   "nbconvert_exporter": "python",
   "pygments_lexer": "ipython3",
   "version": "3.11.5"
  }
 },
 "nbformat": 4,
 "nbformat_minor": 2
}
